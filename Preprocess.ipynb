{
 "cells": [
  {
   "cell_type": "code",
   "execution_count": 3,
   "metadata": {},
   "outputs": [
    {
     "name": "stdout",
     "output_type": "stream",
     "text": [
      "Collecting opencv-python\n",
      "  Downloading opencv_python-4.11.0.86-cp37-abi3-win_amd64.whl.metadata (20 kB)\n",
      "Requirement already satisfied: numpy>=1.21.2 in c:\\users\\karth\\anaconda3\\lib\\site-packages (from opencv-python) (1.26.4)\n",
      "Downloading opencv_python-4.11.0.86-cp37-abi3-win_amd64.whl (39.5 MB)\n",
      "   ---------------------------------------- 0.0/39.5 MB ? eta -:--:--\n",
      "   ---- ----------------------------------- 4.5/39.5 MB 38.5 MB/s eta 0:00:01\n",
      "   ------------------- -------------------- 19.7/39.5 MB 56.4 MB/s eta 0:00:01\n",
      "   ---------------------------------------  39.3/39.5 MB 78.1 MB/s eta 0:00:01\n",
      "   ---------------------------------------- 39.5/39.5 MB 64.4 MB/s eta 0:00:00\n",
      "Installing collected packages: opencv-python\n",
      "Successfully installed opencv-python-4.11.0.86\n",
      "Note: you may need to restart the kernel to use updated packages.\n"
     ]
    }
   ],
   "source": [
    "pip install opencv-python"
   ]
  },
  {
   "cell_type": "code",
   "execution_count": null,
   "metadata": {},
   "outputs": [
    {
     "name": "stdout",
     "output_type": "stream",
     "text": [
      "✅ Preprocessing complete! Files saved in: C:\\Users\\karth\\OneDrive\\Desktop\\Project\\processed_cholecseg8k\n"
     ]
    }
   ],
   "source": [
    "import os\n",
    "import cv2\n",
    "root_dir = r\"C:\\Users\\karth\\OneDrive\\Desktop\\Project\\Data\"  \n",
    "output_dir = r\"C:\\Users\\karth\\OneDrive\\Desktop\\Project\\processed_cholecseg8k\"\n",
    "os.makedirs(output_dir, exist_ok=True)\n",
    "target_size = (256, 256)\n",
    "def process_video_folder(video_folder_path, video_name):\n",
    "    for frame_folder in os.listdir(video_folder_path):\n",
    "        frame_folder_path = os.path.join(video_folder_path, frame_folder)\n",
    "        frame_file = None\n",
    "        mask_file = None\n",
    "        for file in os.listdir(frame_folder_path):\n",
    "            if file.endswith(\"_endo.png\") and not (\"color_mask\" in file or \"watershed\" in file):\n",
    "                frame_file = os.path.join(frame_folder_path, file)\n",
    "                mask_file = frame_file.replace(\"_endo.png\", \"_endo_mask.png\")\n",
    "        if frame_file and mask_file and os.path.exists(mask_file):\n",
    "            frame = cv2.imread(frame_file)\n",
    "            mask = cv2.imread(mask_file, cv2.IMREAD_GRAYSCALE)\n",
    "            frame = cv2.resize(frame, target_size)\n",
    "            mask = cv2.resize(mask, target_size, interpolation=cv2.INTER_NEAREST)\n",
    "            base_name = f\"{video_name}_{frame_folder}\"\n",
    "            cv2.imwrite(os.path.join(output_dir, f\"{base_name}_image.png\"), frame)\n",
    "            cv2.imwrite(os.path.join(output_dir, f\"{base_name}_mask.png\"), mask)\n",
    "\n",
    "for video_folder in os.listdir(root_dir):\n",
    "    video_folder_path = os.path.join(root_dir, video_folder)\n",
    "\n",
    "    if os.path.isdir(video_folder_path):\n",
    "        process_video_folder(video_folder_path, video_folder)\n",
    "\n",
    "print(f\"Preprocessing complete! Files saved in: {output_dir}\")\n"
   ]
  }
 ],
 "metadata": {
  "kernelspec": {
   "display_name": "base",
   "language": "python",
   "name": "python3"
  },
  "language_info": {
   "codemirror_mode": {
    "name": "ipython",
    "version": 3
   },
   "file_extension": ".py",
   "mimetype": "text/x-python",
   "name": "python",
   "nbconvert_exporter": "python",
   "pygments_lexer": "ipython3",
   "version": "3.11.5"
  }
 },
 "nbformat": 4,
 "nbformat_minor": 2
}
