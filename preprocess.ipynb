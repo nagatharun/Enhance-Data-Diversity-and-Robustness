#Use this code to convert the folder structure to a flat structure with only the frames and their respective watershed mask
import os
import shutil

# Path to original dataset 
original_root = r"C:\Users\karth\OneDrive\Desktop\Project\Data"

# Path to flattened folder 
processed_folder = r"C:\Users\karth\OneDrive\Desktop\Project\processed_cholecseg8k"
os.makedirs(processed_folder, exist_ok=True)

count = 0

# Traverse all video folders
for video_folder in os.listdir(original_root):
    video_path = os.path.join(original_root, video_folder)

    if not os.path.isdir(video_path):
        continue 

    for subfolder in os.listdir(video_path):
        subfolder_path = os.path.join(video_path, subfolder)

        if not os.path.isdir(subfolder_path):
            continue  

        # Collect all frames inside this subfolder
        for file in os.listdir(subfolder_path):
            if file.endswith('_endo.png'):  # Frame image
                image_path = os.path.join(subfolder_path, file)

                # Find the corresponding watershed mask
                watershed_file = file.replace('_endo.png', '_endo_watershed_mask.png')
                watershed_path = os.path.join(subfolder_path, watershed_file)

                if not os.path.exists(watershed_path):
                    raise FileNotFoundError(f"Missing watershed mask for {file}")

                # Standardize the output name to: frame_{index}_image.png, frame_{index}_watershed_mask.png
                output_image_file = f"frame_{count}_image.png"
                output_mask_file = f"frame_{count}_watershed_mask.png"

                shutil.copy(image_path, os.path.join(processed_folder, output_image_file))
                shutil.copy(watershed_path, os.path.join(processed_folder, output_mask_file))

                count += 1

