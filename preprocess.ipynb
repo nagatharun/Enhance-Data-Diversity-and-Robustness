import os
import cv2
root_dir = r"C:\Users\karth\OneDrive\Desktop\Project\Data"  # Actual unprocessed CholecSeg8k folder path
output_dir = r"C:\Users\karth\OneDrive\Desktop\Project\processed_cholecseg8k" # final folder to hold the preprocessed daa
os.makedirs(output_dir, exist_ok=True)
target_size = (256, 256)

def process_video_folder(video_folder_path, video_name):
    # Process all the small frame folders (video01_00080, video01_00160, etc.)
    for frame_folder in os.listdir(video_folder_path):
        frame_folder_path = os.path.join(video_folder_path, frame_folder)

        # Find the actual image and mask files inside the folder
        frame_file = None
        mask_file = None

        for file in os.listdir(frame_folder_path):
            if file.endswith("_endo.png") and not ("color_mask" in file or "watershed" in file):
                frame_file = os.path.join(frame_folder_path, file)
                mask_file = frame_file.replace("_endo.png", "_endo_mask.png")

        if frame_file and mask_file and os.path.exists(mask_file):
            # Load image and mask
            frame = cv2.imread(frame_file)
            mask = cv2.imread(mask_file, cv2.IMREAD_GRAYSCALE)

            # Resize both to target size (optional)
            frame = cv2.resize(frame, target_size)
            mask = cv2.resize(mask, target_size, interpolation=cv2.INTER_NEAREST)

            # Create new standardized name: frame_video01_00080
            base_name = f"{video_name}_{frame_folder}"

            # Save image and mask to processed folder
            cv2.imwrite(os.path.join(output_dir, f"{base_name}_image.png"), frame)
            cv2.imwrite(os.path.join(output_dir, f"{base_name}_mask.png"), mask)

# Loop over all videos (video01, video02, ...)
for video_folder in os.listdir(root_dir):
    video_folder_path = os.path.join(root_dir, video_folder)

    if os.path.isdir(video_folder_path):
        process_video_folder(video_folder_path, video_folder)

print(f"✅ Preprocessing complete! Files saved in: {output_dir}")
