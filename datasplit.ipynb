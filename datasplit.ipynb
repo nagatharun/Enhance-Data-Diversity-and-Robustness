{
 "cells": [
  {
   "cell_type": "code",
   "execution_count": 3,
   "metadata": {},
   "outputs": [
    {
     "name": "stdout",
     "output_type": "stream",
     "text": [
      "Collecting opencv-python\n",
      "  Using cached opencv_python-4.11.0.86-cp37-abi3-win_amd64.whl.metadata (20 kB)\n",
      "Requirement already satisfied: numpy>=1.21.2 in c:\\users\\karth\\anaconda3\\envs\\capstone-env\\lib\\site-packages (from opencv-python) (2.2.3)\n",
      "Using cached opencv_python-4.11.0.86-cp37-abi3-win_amd64.whl (39.5 MB)\n",
      "Installing collected packages: opencv-python\n",
      "Successfully installed opencv-python-4.11.0.86\n",
      "Note: you may need to restart the kernel to use updated packages.\n"
     ]
    }
   ],
   "source": [
    "pip install opencv-python"
   ]
  },
  {
   "cell_type": "code",
   "execution_count": null,
   "metadata": {},
   "outputs": [],
   "source": [
    "import os\n",
    "import cv2\n",
    "import torch\n",
    "from torch.utils.data import Dataset\n",
    "\n",
    "class CholecSeg8kDataset(Dataset):\n",
    "    def __init__(self, data_folder):\n",
    "        self.data_folder = data_folder\n",
    "        self.image_files = [f for f in os.listdir(data_folder) if f.endswith('_image.png')]\n",
    "    def __len__(self):\n",
    "        return len(self.image_files)\n",
    "    def __getitem__(self, idx):\n",
    "        # Find image and corresponding mask\n",
    "        image_file = self.image_files[idx]\n",
    "        mask_file = image_file.replace('_image.png', '_mask.png')\n",
    "        image_path = os.path.join(self.data_folder, image_file)\n",
    "        mask_path = os.path.join(self.data_folder, mask_file)\n",
    "        image = cv2.imread(image_path)\n",
    "        image = cv2.cvtColor(image, cv2.COLOR_BGR2RGB)\n",
    "        mask = cv2.imread(mask_path, cv2.IMREAD_GRAYSCALE)\n",
    "        image = torch.tensor(image, dtype=torch.float32).permute(2, 0, 1) / 255.0\n",
    "        mask = torch.tensor(mask, dtype=torch.long)\n",
    "        return image, mask\n"
   ]
  },
  {
   "cell_type": "code",
   "execution_count": null,
   "metadata": {},
   "outputs": [
    {
     "name": "stdout",
     "output_type": "stream",
     "text": [
      "✅ Data split into train and val successfully!\n"
     ]
    }
   ],
   "source": [
    "import os\n",
    "import shutil\n",
    "import random\n",
    "processed_folder = r\"C:\\Users\\karth\\OneDrive\\Desktop\\Project\\processed_cholecseg8k\"\n",
    "split_folder = r\"C:\\Users\\karth\\OneDrive\\Desktop\\Project\\split_cholecseg8k\"\n",
    "# Create train/val folders\n",
    "os.makedirs(os.path.join(split_folder, \"train\"), exist_ok=True)\n",
    "os.makedirs(os.path.join(split_folder, \"val\"), exist_ok=True)\n",
    "image_files = [f for f in os.listdir(processed_folder) if f.endswith('_image.png')]\n",
    "random.seed(42) \n",
    "random.shuffle(image_files)\n",
    "# Split 80% train, 20% val\n",
    "split_idx = int(0.8 * len(image_files))\n",
    "train_files = image_files[:split_idx]\n",
    "val_files = image_files[split_idx:]\n",
    "# Copy files to train/val folders\n",
    "for file in train_files:\n",
    "    mask_file = file.replace('_image.png', '_mask.png')\n",
    "    shutil.copy(os.path.join(processed_folder, file), os.path.join(split_folder, \"train\", file))\n",
    "    shutil.copy(os.path.join(processed_folder, mask_file), os.path.join(split_folder, \"train\", mask_file))\n",
    "for file in val_files:\n",
    "    mask_file = file.replace('_image.png', '_mask.png')\n",
    "    shutil.copy(os.path.join(processed_folder, file), os.path.join(split_folder, \"val\", file))\n",
    "    shutil.copy(os.path.join(processed_folder, mask_file), os.path.join(split_folder, \"val\", mask_file))\n",
    "print(\" Data split into train and val successfully!\")\n"
   ]
  },
  {
   "cell_type": "code",
   "execution_count": 8,
   "metadata": {},
   "outputs": [
    {
     "name": "stdout",
     "output_type": "stream",
     "text": [
      "Image batch shape: torch.Size([8, 3, 256, 256])\n",
      "Mask batch shape: torch.Size([8, 256, 256])\n"
     ]
    }
   ],
   "source": [
    "from torch.utils.data import DataLoader\n",
    "\n",
    "train_folder = r\"C:\\Users\\karth\\OneDrive\\Desktop\\Project\\split_cholecseg8k\\train\"\n",
    "val_folder = r\"C:\\Users\\karth\\OneDrive\\Desktop\\Project\\split_cholecseg8k\\val\"\n",
    "\n",
    "train_dataset = CholecSeg8kDataset(train_folder)\n",
    "val_dataset = CholecSeg8kDataset(val_folder)\n",
    "\n",
    "train_loader = DataLoader(train_dataset, batch_size=8, shuffle=True)\n",
    "val_loader = DataLoader(val_dataset, batch_size=8)\n",
    "\n",
    "# Quick test\n",
    "for images, masks in train_loader:\n",
    "    print(f\"Image batch shape: {images.shape}\")\n",
    "    print(f\"Mask batch shape: {masks.shape}\")\n",
    "    break\n"
   ]
  }
 ],
 "metadata": {
  "kernelspec": {
   "display_name": "capstone-env",
   "language": "python",
   "name": "python3"
  },
  "language_info": {
   "codemirror_mode": {
    "name": "ipython",
    "version": 3
   },
   "file_extension": ".py",
   "mimetype": "text/x-python",
   "name": "python",
   "nbconvert_exporter": "python",
   "pygments_lexer": "ipython3",
   "version": "3.10.16"
  }
 },
 "nbformat": 4,
 "nbformat_minor": 2
}
