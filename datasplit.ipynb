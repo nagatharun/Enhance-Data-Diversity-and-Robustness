import os
import shutil
import random
import cv2
import torch
import numpy as np
from torch.utils.data import Dataset, DataLoader

processed_folder = r"C:\Users\karth\OneDrive\Desktop\Project\processed_cholecseg8k"
split_folder = r"C:\Users\karth\OneDrive\Desktop\Project\split_cholecseg8k"
shutil.rmtree(split_folder, ignore_errors=True)
os.makedirs(os.path.join(split_folder, "train"), exist_ok=True)
os.makedirs(os.path.join(split_folder, "val"), exist_ok=True)
image_files = [f for f in os.listdir(processed_folder) if f.endswith('_image.png')]
# Fix random seed for reproducibility
random.seed(42)
random.shuffle(image_files)
# Split 80% train, 20% val
split_idx = int(0.8 * len(image_files))
train_files = image_files[:split_idx]
val_files = image_files[split_idx:]
# Function to copy image & mask pair
def copy_pair(image_file, dest_folder):
    mask_file = image_file.replace('_image.png', '_watershed_mask.png')
    shutil.copy(os.path.join(processed_folder, image_file), os.path.join(dest_folder, image_file))
    shutil.copy(os.path.join(processed_folder, mask_file), os.path.join(dest_folder, mask_file))
for file in train_files:
    copy_pair(file, os.path.join(split_folder, "train"))
for file in val_files:
    copy_pair(file, os.path.join(split_folder, "val"))

print(f"Data split complete. Train: {len(train_files)}, Val: {len(val_files)}")


RGB_TO_CLASS = {
    (80, 80, 80): 0,    # Background
    (17, 17, 17): 1,    # Abdominal Wall
    (33, 33, 33): 2,    # Liver
    (19, 19, 19): 3,    # GI Tract
    (18, 18, 18): 4,    # Fat
    (49, 49, 49): 5,    # Grasper
    (35, 35, 35): 6,    # Connective Tissue
    (36, 36, 36): 7,    # Blood
    (37, 37, 37): 8,    # Cystic Duct
    (50, 50, 50): 9,    # L-Hook
    (34, 34, 34): 10,   # Gallbladder
    (51, 51, 51): 11,   # Hepatic Vein
    (5, 5, 5): 12       # Liver Ligament
}

def rgb_to_class(mask_rgb):
    h, w, _ = mask_rgb.shape
    class_mask = np.zeros((h, w), dtype=np.uint8)

    for rgb, class_id in RGB_TO_CLASS.items():
        match = (mask_rgb == rgb).all(axis=-1)
        class_mask[match] = class_id

    return class_mask

class CholecSeg8kDataset(Dataset):
    def __init__(self, data_folder):
        self.data_folder = data_folder
        self.image_files = [f for f in os.listdir(data_folder) if '_image.png' in f]

    def __len__(self):
        return len(self.image_files)

    def __getitem__(self, idx):
        image_file = self.image_files[idx]
        mask_file = image_file.replace('_image.png', '_watershed_mask.png')

        image_path = os.path.join(self.data_folder, image_file)
        mask_path = os.path.join(self.data_folder, mask_file)

        # Load image (RGB)
        image = cv2.imread(image_path)
        image = cv2.cvtColor(image, cv2.COLOR_BGR2RGB)
        image = torch.tensor(image, dtype=torch.float32).permute(2, 0, 1) / 255.0

        # Load watershed mask (color) and convert to class IDs
        mask = cv2.imread(mask_path)
        mask = cv2.cvtColor(mask, cv2.COLOR_BGR2RGB)  # Ensure RGB order
        mask = rgb_to_class(mask)
        mask = torch.tensor(mask, dtype=torch.long)  # Long type needed for CrossEntropyLoss

        if idx == 0:  
            print(f"First mask unique values: {torch.unique(mask).tolist()}")

        return image, mask

#Dataloader
train_folder = os.path.join(split_folder, "train")
val_folder = os.path.join(split_folder, "val")

train_dataset = CholecSeg8kDataset(train_folder)
val_dataset = CholecSeg8kDataset(val_folder)

train_loader = DataLoader(train_dataset, batch_size=8, shuffle=True)
val_loader = DataLoader(val_dataset, batch_size=8)

# check
for images, masks in train_loader:
    print(f"DataLoader Test Passed")
    print(f"Image batch shape: {images.shape}")
    print(f"Mask batch shape: {masks.shape}")
    print(f"Mask unique values: {masks.unique().tolist()}")
    break
