{
 "cells": [
  {
   "cell_type": "code",
   "execution_count": 1,
   "id": "1e2f9eb5-9653-49a7-91a6-403045d355a7",
   "metadata": {},
   "outputs": [
    {
     "name": "stdout",
     "output_type": "stream",
     "text": [
      "Class-wise annotation count:\n",
      "Class 0: 21092 annotations in 8080 images\n"
     ]
    }
   ],
   "source": [
    "import os\n",
    "from collections import defaultdict\n",
    "\n",
    "# Set path to your label directory\n",
    "label_dir = '/student/vcheruku/Enhance-Data-Diversity-and-Robustness/yolo-for-single-class/labels'  # usually train/labels or val/labels\n",
    "\n",
    "class_counts = defaultdict(int)\n",
    "image_counts = defaultdict(set)\n",
    "\n",
    "for filename in os.listdir(label_dir):\n",
    "    if not filename.endswith('.txt'):\n",
    "        continue\n",
    "    filepath = os.path.join(label_dir, filename)\n",
    "    with open(filepath, 'r') as f:\n",
    "        for line in f:\n",
    "            parts = line.strip().split()\n",
    "            if len(parts) < 1:\n",
    "                continue\n",
    "            class_id = int(parts[0])\n",
    "            class_counts[class_id] += 1\n",
    "            image_counts[class_id].add(filename.replace('.txt', '.jpg'))  # or .png\n",
    "\n",
    "print(\"Class-wise annotation count:\")\n",
    "for class_id, count in class_counts.items():\n",
    "    print(f\"Class {class_id}: {count} annotations in {len(image_counts[class_id])} images\")\n"
   ]
  },
  {
   "cell_type": "code",
   "execution_count": null,
   "id": "23b6f963-aba9-4e0c-a477-b0804829eccb",
   "metadata": {},
   "outputs": [],
   "source": []
  }
 ],
 "metadata": {
  "kernelspec": {
   "display_name": "Python 3 (ipykernel)",
   "language": "python",
   "name": "python3"
  },
  "language_info": {
   "codemirror_mode": {
    "name": "ipython",
    "version": 3
   },
   "file_extension": ".py",
   "mimetype": "text/x-python",
   "name": "python",
   "nbconvert_exporter": "python",
   "pygments_lexer": "ipython3",
   "version": "3.12.9"
  }
 },
 "nbformat": 4,
 "nbformat_minor": 5
}
