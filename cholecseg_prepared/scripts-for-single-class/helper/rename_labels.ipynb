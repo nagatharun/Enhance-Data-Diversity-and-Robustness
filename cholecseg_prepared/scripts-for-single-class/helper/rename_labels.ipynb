{
 "cells": [
  {
   "cell_type": "code",
   "execution_count": 2,
   "id": "578d791e-70bd-4615-803c-e3e47c26eb98",
   "metadata": {},
   "outputs": [
    {
     "name": "stdout",
     "output_type": "stream",
     "text": [
      "Renaming completed\n"
     ]
    }
   ],
   "source": [
    "## Code to rename labels if all the labels are in labels folder\n",
    "import os\n",
    "\n",
    "def rename_label_files(labels_dir):\n",
    "    for filename in os.listdir(labels_dir):\n",
    "        if not filename.endswith(\".txt\"):\n",
    "            continue\n",
    "        if \"color_mask\" in filename:\n",
    "            new_name = filename.replace(\"_color_mask\", \"\")\n",
    "            old_path = os.path.join(labels_dir, filename)\n",
    "            new_path = os.path.join(labels_dir, new_name)\n",
    "            os.rename(old_path, new_path)\n",
    "    print(\"Renaming completed\")\n",
    "\n",
    "# Example usage\n",
    "labels_dir = \"/student/vcheruku/Enhance-Data-Diversity-and-Robustness/yolo-for-single-class/labels\"\n",
    "rename_label_files(labels_dir)"
   ]
  },
  {
   "cell_type": "code",
   "execution_count": null,
   "id": "6376a1c6-cec9-4ebe-a0e3-6ffccb6e2444",
   "metadata": {},
   "outputs": [],
   "source": [
    "# Code to rename labels(if labels are in train,test,val dirs) to match with the name of image\n",
    "import os\n",
    "\n",
    "# Set your directories for images and labels\n",
    "image_dirs = {\n",
    "    'train': '/student/vcheruku/Enhance-Data-Diversity-and-Robustness/yolo-for-single-class/images/train',\n",
    "    'test': '/student/vcheruku/Enhance-Data-Diversity-and-Robustness/yolo-for-single-class/images/test',\n",
    "    'val': '/student/vcheruku/Enhance-Data-Diversity-and-Robustness/yolo-for-single-class/images/val'\n",
    "}\n",
    "\n",
    "label_dirs = {\n",
    "    'train': '/student/vcheruku/Enhance-Data-Diversity-and-Robustness/yolo-for-single-class/labels/train',\n",
    "    'test': '/student/vcheruku/Enhance-Data-Diversity-and-Robustness/yolo-for-single-class/labels/test',\n",
    "    'val': '/student/vcheruku/Enhance-Data-Diversity-and-Robustness/yolo-for-single-class/labels/val'\n",
    "}\n",
    "\n",
    "# Iterate over all directories (train, test, val)\n",
    "for data_split in ['train', 'test', 'val']:\n",
    "    images_dir = image_dirs[data_split]\n",
    "    labels_dir = label_dirs[data_split]\n",
    "\n",
    "    # Get all image files in the current set\n",
    "    image_files = [f for f in os.listdir(images_dir) if f.endswith('.png')]  # Adjust the extension if necessary\n",
    "\n",
    "    # Iterate through image files and rename corresponding .txt files\n",
    "    for image_file in image_files:\n",
    "        image_name = os.path.splitext(image_file)[0]  # Get the name without extension\n",
    "        label_file = f'{image_name}.txt'  # Create the corresponding .txt file name\n",
    "        label_file_old = f'{image_name}_color_mask.txt'  # Old .txt file name\n",
    "\n",
    "        label_path_old = os.path.join(labels_dir, label_file_old)\n",
    "        label_path_new = os.path.join(labels_dir, label_file)\n",
    "\n",
    "        # Check if the old label file exists, then rename it\n",
    "        if os.path.exists(label_path_old):\n",
    "            os.rename(label_path_old, label_path_new)\n",
    "        else:\n",
    "            print(f'Label file not found: {label_path_old}')\n",
    "\n",
    "print('Renaming completed!')"
   ]
  }
 ],
 "metadata": {
  "kernelspec": {
   "display_name": "Python 3 (ipykernel)",
   "language": "python",
   "name": "python3"
  },
  "language_info": {
   "codemirror_mode": {
    "name": "ipython",
    "version": 3
   },
   "file_extension": ".py",
   "mimetype": "text/x-python",
   "name": "python",
   "nbconvert_exporter": "python",
   "pygments_lexer": "ipython3",
   "version": "3.12.9"
  }
 },
 "nbformat": 4,
 "nbformat_minor": 5
}
