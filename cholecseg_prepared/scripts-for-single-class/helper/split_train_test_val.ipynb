{
 "cells": [
  {
   "cell_type": "code",
   "execution_count": 1,
   "id": "7e38b08a-b159-4ef5-9b3c-34d54f53dda6",
   "metadata": {},
   "outputs": [
    {
     "name": "stdout",
     "output_type": "stream",
     "text": [
      "Total: 8080, Train: 6464, Val: 808, Test: 808\n"
     ]
    }
   ],
   "source": [
    "import os\n",
    "import shutil\n",
    "import random\n",
    "\n",
    "def split_and_move_dataset(image_dir, label_dir, base_output, train_ratio=0.8, val_ratio=0.1):\n",
    "    image_files = [f for f in os.listdir(image_dir) if f.endswith('.png')]\n",
    "    base_names = [os.path.splitext(f)[0] for f in image_files]\n",
    "\n",
    "    # Ensure only those with a corresponding label file are considered\n",
    "    valid_base_names = [b for b in base_names if os.path.exists(os.path.join(label_dir, b + '.txt'))]\n",
    "\n",
    "    random.shuffle(valid_base_names)\n",
    "\n",
    "    total = len(valid_base_names)\n",
    "    train_end = int(total * train_ratio)\n",
    "    val_end = train_end + int(total * val_ratio)\n",
    "\n",
    "    train_split = valid_base_names[:train_end]\n",
    "    val_split = valid_base_names[train_end:val_end]\n",
    "    test_split = valid_base_names[val_end:]\n",
    "\n",
    "    print(f\"Total: {total}, Train: {len(train_split)}, Val: {len(val_split)}, Test: {len(test_split)}\")\n",
    "\n",
    "    def move_files(split, split_type):\n",
    "        img_target = os.path.join(base_output, f'images/{split_type}')\n",
    "        lbl_target = os.path.join(base_output, f'labels/{split_type}')\n",
    "        os.makedirs(img_target, exist_ok=True)\n",
    "        os.makedirs(lbl_target, exist_ok=True)\n",
    "\n",
    "        for base in split:\n",
    "            src_img = os.path.join(image_dir, base + '.png')\n",
    "            src_lbl = os.path.join(label_dir, base + '.txt')\n",
    "            dst_img = os.path.join(img_target, base + '.png')\n",
    "            dst_lbl = os.path.join(lbl_target, base + '.txt')\n",
    "\n",
    "            shutil.move(src_img, dst_img)\n",
    "            shutil.move(src_lbl, dst_lbl)\n",
    "\n",
    "    move_files(train_split, 'train')\n",
    "    move_files(val_split, 'val')\n",
    "    move_files(test_split, 'test')\n",
    "\n",
    "# ===== Update your paths here =====\n",
    "base_output = \"/student/vcheruku/Enhance-Data-Diversity-and-Robustness/yolo-for-single-class\"\n",
    "image_dir = os.path.join(base_output, \"raw_images\")\n",
    "label_dir = os.path.join(base_output, \"labels\")\n",
    "\n",
    "split_and_move_dataset(image_dir, label_dir, base_output)\n"
   ]
  },
  {
   "cell_type": "code",
   "execution_count": null,
   "id": "d88117c2-0d9c-416f-ac0d-03d4631c3da1",
   "metadata": {},
   "outputs": [],
   "source": []
  }
 ],
 "metadata": {
  "kernelspec": {
   "display_name": "Python 3 (ipykernel)",
   "language": "python",
   "name": "python3"
  },
  "language_info": {
   "codemirror_mode": {
    "name": "ipython",
    "version": 3
   },
   "file_extension": ".py",
   "mimetype": "text/x-python",
   "name": "python",
   "nbconvert_exporter": "python",
   "pygments_lexer": "ipython3",
   "version": "3.12.9"
  }
 },
 "nbformat": 4,
 "nbformat_minor": 5
}
