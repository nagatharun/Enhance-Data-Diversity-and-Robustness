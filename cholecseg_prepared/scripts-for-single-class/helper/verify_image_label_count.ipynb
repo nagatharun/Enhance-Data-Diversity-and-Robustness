{
 "cells": [
  {
   "cell_type": "code",
   "execution_count": 3,
   "id": "a1e79c21-f2db-4345-a70c-ed714e04eacb",
   "metadata": {},
   "outputs": [
    {
     "name": "stdout",
     "output_type": "stream",
     "text": [
      "✅ All images have corresponding label files.\n"
     ]
    }
   ],
   "source": [
    "import os\n",
    "\n",
    "def check_image_label_pairs(image_dir, label_dir):\n",
    "    image_files = [f for f in os.listdir(image_dir) if f.endswith(\"_endo.png\")]\n",
    "    missing_labels = []\n",
    "\n",
    "    for img_file in image_files:\n",
    "        base_name = os.path.splitext(img_file)[0]\n",
    "        label_file = base_name + \".txt\"\n",
    "        label_path = os.path.join(label_dir, label_file)\n",
    "        if not os.path.exists(label_path):\n",
    "            missing_labels.append(img_file)\n",
    "\n",
    "    if missing_labels:\n",
    "        print(f\"\\n{len(missing_labels)} image(s) are missing corresponding label files:\")\n",
    "        for missing in missing_labels:\n",
    "            print(f\"  {missing}\")\n",
    "    else:\n",
    "        print(\"✅ All images have corresponding label files.\")\n",
    "\n",
    "# Example usage\n",
    "image_dir = \"/student/vcheruku/Enhance-Data-Diversity-and-Robustness/yolo-for-single-class/raw_images\"\n",
    "label_dir = \"/student/vcheruku/Enhance-Data-Diversity-and-Robustness/yolo-for-single-class/labels\"\n",
    "check_image_label_pairs(image_dir, label_dir)\n"
   ]
  },
  {
   "cell_type": "code",
   "execution_count": null,
   "id": "ed79da90-6a32-4dda-a25c-642b63d8598b",
   "metadata": {},
   "outputs": [],
   "source": []
  }
 ],
 "metadata": {
  "kernelspec": {
   "display_name": "Python 3 (ipykernel)",
   "language": "python",
   "name": "python3"
  },
  "language_info": {
   "codemirror_mode": {
    "name": "ipython",
    "version": 3
   },
   "file_extension": ".py",
   "mimetype": "text/x-python",
   "name": "python",
   "nbconvert_exporter": "python",
   "pygments_lexer": "ipython3",
   "version": "3.12.9"
  }
 },
 "nbformat": 4,
 "nbformat_minor": 5
}
